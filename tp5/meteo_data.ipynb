{
 "cells": [
  {
   "cell_type": "code",
   "execution_count": 2,
   "metadata": {},
   "outputs": [
    {
     "name": "stdout",
     "output_type": "stream",
     "text": [
      "               datetime  temperature\n",
      "0  2025-03-03T09:54:22Z          6.5\n",
      "1  2025-03-03T10:09:07Z          6.8\n",
      "2  2025-03-03T09:58:17Z          6.6\n",
      "3  2025-03-03T10:02:26Z          6.7\n",
      "4  2025-03-03T09:49:33Z          6.4\n"
     ]
    }
   ],
   "source": [
    "import os\n",
    "import pandas as pd\n",
    "import json\n",
    "\n",
    "# Spécifiez le répertoire où les fichiers JSON sont stockés\n",
    "local_dir = \"./meteo_data/\"\n",
    "\n",
    "# Liste tous les fichiers JSON dans le répertoire local\n",
    "json_files = [os.path.join(local_dir, f) for f in os.listdir(local_dir) if f.endswith('.json')]\n",
    "\n",
    "# Lire et fusionner les fichiers JSON\n",
    "dataframes = []\n",
    "\n",
    "for file in json_files:\n",
    "    with open(file, 'r') as f:\n",
    "        try:\n",
    "            data = json.load(f)\n",
    "            # Vérifier si le contenu est un objet ou une liste\n",
    "            if isinstance(data, dict) or isinstance(data, list):\n",
    "                df = pd.json_normalize(data) if isinstance(data, dict) else pd.DataFrame(data)\n",
    "                dataframes.append(df)\n",
    "            else:\n",
    "                print(f\"Le fichier {file} ne contient pas des données JSON valides.\")\n",
    "        except Exception as e:\n",
    "            print(f\"Erreur en lisant {file}: {e}\")\n",
    "\n",
    "# Fusionner les DataFrames\n",
    "df_merged = pd.concat(dataframes, ignore_index=True)\n",
    "\n",
    "# Afficher les premières lignes du DataFrame fusionné\n",
    "print(df_merged.head())\n"
   ]
  },
  {
   "cell_type": "code",
   "execution_count": null,
   "metadata": {},
   "outputs": [],
   "source": [
    "df_merged.rename(columns={'datetime': 'date'}, inplace=True)"
   ]
  },
  {
   "cell_type": "code",
   "execution_count": 9,
   "metadata": {},
   "outputs": [],
   "source": [
    "df_merged['date'] = pd.to_datetime(df_merged['date'])\n",
    "df_merged['date'] = df_merged['date'].dt.strftime('%d-%m-%Y %H:%M:%S')"
   ]
  },
  {
   "cell_type": "code",
   "execution_count": null,
   "metadata": {},
   "outputs": [
    {
     "data": {
      "text/html": [
       "<div>\n",
       "<style scoped>\n",
       "    .dataframe tbody tr th:only-of-type {\n",
       "        vertical-align: middle;\n",
       "    }\n",
       "\n",
       "    .dataframe tbody tr th {\n",
       "        vertical-align: top;\n",
       "    }\n",
       "\n",
       "    .dataframe thead th {\n",
       "        text-align: right;\n",
       "    }\n",
       "</style>\n",
       "<table border=\"1\" class=\"dataframe\">\n",
       "  <thead>\n",
       "    <tr style=\"text-align: right;\">\n",
       "      <th></th>\n",
       "      <th>date</th>\n",
       "      <th>temperature</th>\n",
       "    </tr>\n",
       "  </thead>\n",
       "  <tbody>\n",
       "    <tr>\n",
       "      <th>0</th>\n",
       "      <td>03-03-2025 09:54:22</td>\n",
       "      <td>6.5</td>\n",
       "    </tr>\n",
       "    <tr>\n",
       "      <th>1</th>\n",
       "      <td>03-03-2025 10:09:07</td>\n",
       "      <td>6.8</td>\n",
       "    </tr>\n",
       "    <tr>\n",
       "      <th>2</th>\n",
       "      <td>03-03-2025 09:58:17</td>\n",
       "      <td>6.6</td>\n",
       "    </tr>\n",
       "    <tr>\n",
       "      <th>3</th>\n",
       "      <td>03-03-2025 10:02:26</td>\n",
       "      <td>6.7</td>\n",
       "    </tr>\n",
       "    <tr>\n",
       "      <th>4</th>\n",
       "      <td>03-03-2025 09:49:33</td>\n",
       "      <td>6.4</td>\n",
       "    </tr>\n",
       "    <tr>\n",
       "      <th>...</th>\n",
       "      <td>...</td>\n",
       "      <td>...</td>\n",
       "    </tr>\n",
       "    <tr>\n",
       "      <th>119</th>\n",
       "      <td>03-03-2025 09:51:57</td>\n",
       "      <td>6.5</td>\n",
       "    </tr>\n",
       "    <tr>\n",
       "      <th>120</th>\n",
       "      <td>03-03-2025 10:07:35</td>\n",
       "      <td>6.8</td>\n",
       "    </tr>\n",
       "    <tr>\n",
       "      <th>121</th>\n",
       "      <td>03-03-2025 09:51:37</td>\n",
       "      <td>6.5</td>\n",
       "    </tr>\n",
       "    <tr>\n",
       "      <th>122</th>\n",
       "      <td>03-03-2025 10:00:00</td>\n",
       "      <td>6.7</td>\n",
       "    </tr>\n",
       "    <tr>\n",
       "      <th>123</th>\n",
       "      <td>03-03-2025 10:07:56</td>\n",
       "      <td>6.8</td>\n",
       "    </tr>\n",
       "  </tbody>\n",
       "</table>\n",
       "<p>124 rows × 2 columns</p>\n",
       "</div>"
      ],
      "text/plain": [
       "                    date  temperature\n",
       "0    03-03-2025 09:54:22          6.5\n",
       "1    03-03-2025 10:09:07          6.8\n",
       "2    03-03-2025 09:58:17          6.6\n",
       "3    03-03-2025 10:02:26          6.7\n",
       "4    03-03-2025 09:49:33          6.4\n",
       "..                   ...          ...\n",
       "119  03-03-2025 09:51:57          6.5\n",
       "120  03-03-2025 10:07:35          6.8\n",
       "121  03-03-2025 09:51:37          6.5\n",
       "122  03-03-2025 10:00:00          6.7\n",
       "123  03-03-2025 10:07:56          6.8\n",
       "\n",
       "[124 rows x 2 columns]"
      ]
     },
     "execution_count": 10,
     "metadata": {},
     "output_type": "execute_result"
    }
   ],
   "source": [
    "df_merged"
   ]
  },
  {
   "cell_type": "code",
   "execution_count": 16,
   "metadata": {},
   "outputs": [],
   "source": [
    "df_merged.sort_values(by='date', inplace=True)"
   ]
  },
  {
   "cell_type": "code",
   "execution_count": 17,
   "metadata": {},
   "outputs": [
    {
     "data": {
      "image/png": "[encoded data removed]",
      "text/plain": [
       "<Figure size 1200x600 with 1 Axes>"
      ]
     },
     "metadata": {},
     "output_type": "display_data"
    }
   ],
   "source": [
    "import matplotlib.pyplot as plt\n",
    "\n",
    "plt.figure(figsize=(12, 6))\n",
    "plt.plot(df_merged['date'], df_merged['temperature'], label='Temperature (°C)', color='r')\n",
    "plt.show()"
   ]
  }
 ],
 "metadata": {
  "kernelspec": {
   "display_name": "qualite_donnees",
   "language": "python",
   "name": "python3"
  },
  "language_info": {
   "codemirror_mode": {
    "name": "ipython",
    "version": 3
   },
   "file_extension": ".py",
   "mimetype": "text/x-python",
   "name": "python",
   "nbconvert_exporter": "python",
   "pygments_lexer": "ipython3",
   "version": "3.11.4"
  }
 },
 "nbformat": 4,
 "nbformat_minor": 2
}
